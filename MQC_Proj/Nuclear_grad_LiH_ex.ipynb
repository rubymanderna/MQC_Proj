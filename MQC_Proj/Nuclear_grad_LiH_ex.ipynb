{
 "cells": [
  {
   "cell_type": "markdown",
   "id": "a5516521",
   "metadata": {},
   "source": [
    "# Numerical Calculation of Nuclear Gradients in QED-HFT\n",
    "\n",
    "To calculate nuclear gradients numerically, we use the **finite difference method**. The gradient of the energy \\( E \\) with respect to the position of nucleus \\( I \\) is approximated as:\n",
    "\n",
    "$$\n",
    "\\frac{\\partial E}{\\partial \\mathbf{R}} \\approx \\frac{E(\\mathbf{R} + \\Delta \\mathbf{r}) - E(\\mathbf{R} - \\Delta \\mathbf{r})}{2\\Delta r},\n",
    "$$\n",
    "\n",
    "Where is R(x,y,z)\n",
    "\n",
    "\n",
    "Displace the nucleus \\( R \\) along \\( +x \\), \\(-x \\), \\( +y \\), \\(-y \\), \\( +z \\), and \\(-z \\)for each atom in LiH. \n",
    "\n",
    "For each displaced geometry, total energy is calculated using QED-HFT.\n",
    "\n"
   ]
  },
  {
   "cell_type": "code",
   "execution_count": 14,
   "id": "195c74f4",
   "metadata": {},
   "outputs": [],
   "source": [
    "# options for LiH input file for psi4 energy calculation (QED-HFT)\n",
    "psi4_options_dict = {\n",
    "    \"basis\": \"6-31G\",\n",
    "    \"save_jk\": True,\n",
    "    \"scf_type\": \"pk\",\n",
    "    \"e_convergence\": 1e-12,\n",
    "    \"d_convergence\": 1e-12,\n",
    "}\n",
    "\n",
    "\n",
    "# molecule string for H2O\n",
    "mol_str = \"\"\"\n",
    "0  1\n",
    "Li   0.0    0.0    -0.276328822272\n",
    "H    0.0   0.0    1.923671177728\n",
    "symmetry c1\n",
    "\"\"\""
   ]
  },
  {
   "cell_type": "code",
   "execution_count": 15,
   "id": "62f2599e",
   "metadata": {},
   "outputs": [
    {
     "name": "stdout",
     "output_type": "stream",
     "text": [
      "0.001\n",
      "-0.001\n"
     ]
    }
   ],
   "source": [
    "delta = 0.001\n",
    "\n",
    "x1_p =0.0 + delta\n",
    "print(x1_p)\n",
    "\n",
    "x2_m = 0.0 - delta\n",
    "print(x2_m)"
   ]
  },
  {
   "cell_type": "code",
   "execution_count": 16,
   "id": "51f906b4",
   "metadata": {},
   "outputs": [
    {
     "name": "stdout",
     "output_type": "stream",
     "text": [
      "4.440892098500626e-12\n"
     ]
    }
   ],
   "source": [
    "Ex1_p =  -7.951586580821839 #hatree\n",
    "Ex1_m = -7.951586580821848\n",
    "delta_Ex1 = (Ex1_p - Ex1_m)/(2*delta)\n",
    "print(delta_Ex1)\n"
   ]
  },
  {
   "cell_type": "code",
   "execution_count": 17,
   "id": "302374d7",
   "metadata": {},
   "outputs": [
    {
     "name": "stdout",
     "output_type": "stream",
     "text": [
      "0.0\n"
     ]
    }
   ],
   "source": [
    "Ey1_p =   -7.951586580821843  #hatree\n",
    "Ey1_m = -7.951586580821843\n",
    "delta_Ey1 = (Ey1_p - Ey1_m)/(2*delta)\n",
    "print(delta_Ey1)\n"
   ]
  },
  {
   "cell_type": "code",
   "execution_count": 18,
   "id": "9b8210f6",
   "metadata": {},
   "outputs": [
    {
     "name": "stdout",
     "output_type": "stream",
     "text": [
      "-0.275328822272\n",
      "-0.277328822272\n"
     ]
    }
   ],
   "source": [
    "z1_p = -0.276328822272 + delta\n",
    "print(z1_p)\n",
    "\n",
    "z1_m = -0.276328822272 - delta\n",
    "print(z1_m)"
   ]
  },
  {
   "cell_type": "code",
   "execution_count": 19,
   "id": "2225eba5",
   "metadata": {},
   "outputs": [
    {
     "name": "stdout",
     "output_type": "stream",
     "text": [
      "-0.0627882146804204\n"
     ]
    }
   ],
   "source": [
    "Ez1_p = -7.95164936708924    #hatree\n",
    "Ez1_m = -7.951523790659879\n",
    "delta_Ez1 = (Ez1_p - Ez1_m)/(2*delta)\n",
    "print(delta_Ez1)\n"
   ]
  },
  {
   "cell_type": "code",
   "execution_count": 20,
   "id": "a28e8b72",
   "metadata": {},
   "outputs": [
    {
     "name": "stdout",
     "output_type": "stream",
     "text": [
      "-4.440892098500626e-12\n"
     ]
    }
   ],
   "source": [
    "Ex2_p = -7.951586580821848 #hatree\n",
    "Ex2_m = -7.951586580821839\n",
    "delta_Ex2 = (Ex2_p - Ex2_m)/(2*delta)\n",
    "print(delta_Ex2)"
   ]
  },
  {
   "cell_type": "code",
   "execution_count": 21,
   "id": "8b0f4da1",
   "metadata": {},
   "outputs": [
    {
     "name": "stdout",
     "output_type": "stream",
     "text": [
      "0.0\n"
     ]
    }
   ],
   "source": [
    "Ey2_p =  -7.951586580821843  #hatree\n",
    "Ey2_m =  -7.951586580821843\n",
    "delta_Ey2 = (Ey2_p - Ey2_m)/(2*delta)\n",
    "print(delta_Ey2)"
   ]
  },
  {
   "cell_type": "code",
   "execution_count": 22,
   "id": "c983363c",
   "metadata": {},
   "outputs": [
    {
     "name": "stdout",
     "output_type": "stream",
     "text": [
      "1.924671177728\n",
      "1.9226711777280001\n"
     ]
    }
   ],
   "source": [
    "z2_p = 1.923671177728 + delta\n",
    "print(z2_p)\n",
    "\n",
    "z2_m = 1.923671177728 - delta\n",
    "print(z2_m)"
   ]
  },
  {
   "cell_type": "code",
   "execution_count": 23,
   "id": "2938929b",
   "metadata": {},
   "outputs": [
    {
     "name": "stdout",
     "output_type": "stream",
     "text": [
      "0.0627882146804204\n"
     ]
    }
   ],
   "source": [
    "Ez2_p = -7.951523790659879    #hatree\n",
    "Ez2_m =  -7.95164936708924\n",
    "delta_Ez2 = (Ez2_p - Ez2_m)/(2*delta)\n",
    "print(delta_Ez2)\n"
   ]
  },
  {
   "cell_type": "code",
   "execution_count": 24,
   "id": "ee7034fc",
   "metadata": {},
   "outputs": [
    {
     "name": "stdout",
     "output_type": "stream",
     "text": [
      "0.00000000000000\n"
     ]
    }
   ],
   "source": [
    "gradient = delta_Ex1 + delta_Ey1 + delta_Ez1 + delta_Ex2 +delta_Ey2 + delta_Ez2\n",
    "print(\"{:.14f}\".format(gradient))\n"
   ]
  },
  {
   "cell_type": "code",
   "execution_count": null,
   "id": "ab763658",
   "metadata": {},
   "outputs": [],
   "source": []
  }
 ],
 "metadata": {
  "kernelspec": {
   "display_name": "Python 3 (ipykernel)",
   "language": "python",
   "name": "python3"
  },
  "language_info": {
   "codemirror_mode": {
    "name": "ipython",
    "version": 3
   },
   "file_extension": ".py",
   "mimetype": "text/x-python",
   "name": "python",
   "nbconvert_exporter": "python",
   "pygments_lexer": "ipython3",
   "version": "3.9.15"
  }
 },
 "nbformat": 4,
 "nbformat_minor": 5
}
